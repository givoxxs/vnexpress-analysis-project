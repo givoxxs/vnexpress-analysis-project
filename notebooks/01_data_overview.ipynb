{
 "cells": [
  {
   "cell_type": "markdown",
   "metadata": {},
   "source": [
    "# 1. VNExpress News Data Overview\n",
    "## 1.1. Giới thiệu dữ liệu\n",
    "VNExpress là một trong những trang báo điện tử lớn nhất tại Việt Nam, cung cấp tin tức về nhiều lĩnh vực như chính trị, kinh tế, xã hội, thể thao, giải trí và công nghệ. Dưới đây là một số thông tin về dữ liệu từ VNExpress:\n",
    "* Nguồn dữ liệu: VNExpress\n",
    "* Thời gian thu thập: Từ tháng 1 năm 2025 đến tháng 3 năm 2025\n",
    "* Các lĩnh vực tin tức: Tập trung vào Công nghệ và Khoa học\n",
    "* Số lượng bài viết: Khoảng 1.200 bài viết\n",
    "\n",
    "## 1.2. Mục tiêu phân tích\n",
    "Notebook này thực hiện khảo sát và thống kê sơ bộ dữ liệu thu thập từ VNExpress, tập trung vào hai nhóm bài viết: **\"Khoa học\"** và **\"Công nghệ\"**.\n",
    "\n",
    "**Mục tiêu chính**: Đánh giá tính khả thi của bài toán phân loại bài viết thành hai nhóm: Khoa học và Công nghệ dựa trên nội dung văn bản và các đặc trưng khác.\n",
    "\n",
    "## 1.3. Cấu trúc dữ liệu\n",
    "Dữ liệu bao gồm các trường:\n",
    "* `title`: Tiêu đề bài viết\n",
    "* `description`: Mô tả ngắn gọn về nội dung\n",
    "* `content`: Nội dung bài viết\n",
    "* `group`: Danh mục bài viết (Công nghệ, Khoa học)\n",
    "* `category`: Thể loại bài viết chi tiết\n",
    "* `date`: Ngày xuất bản bài viết\n",
    "* `author`: Tác giả bài viết\n",
    "* `url`: Đường dẫn đến bài viết\n",
    "* `thumbnail`: Đường dẫn đến hình ảnh đại diện bài viết\n",
    "* `tags`: Các thẻ liên quan đến bài viết\n",
    "* `nums_of_comments`: Số lượng bình luận bài viết"
   ]
  },
  {
   "cell_type": "code",
   "execution_count": null,
   "metadata": {},
   "outputs": [],
   "source": [
    "import pandas as pd\n",
    "import numpy as np\n",
    "import matplotlib.pyplot as plt\n",
    "import seaborn as sns\n",
    "from datetime import datetime\n",
    "import os\n",
    "import re\n",
    "from collections import Counter\n",
    "\n",
    "# Thiết lập để hiển thị biểu đồ đẹp hơn\n",
    "plt.style.use('seaborn-v0_8')\n",
    "plt.rcParams['figure.figsize'] = (12, 8)\n",
    "plt.rcParams['font.size'] = 12\n",
    "\n",
    "# Để hiển thị Tiếng Việt đúng\n",
    "plt.rcParams['font.family'] = 'DejaVu Sans'\n",
    "\n",
    "# Tạo thư mục nếu chưa tồn tại\n",
    "os.makedirs('../raw_data', exist_ok=True)\n",
    "os.makedirs('../clean_data', exist_ok=True)\n",
    "\n",
    "import warnings\n",
    "warnings.filterwarnings('ignore')"
   ]
  },
  {
   "cell_type": "markdown",
   "metadata": {},
   "source": [
    "## 1.4. Đọc và tìm hiểu dữ liệu\n",
    "Dữ liệu được thu thập qua quá trình crawl từ trang VNExpress. Chúng ta sẽ đọc dữ liệu từ file CSV đã lưu trữ."
   ]
  },
  {
   "cell_type": "code",
   "execution_count": null,
   "metadata": {},
   "outputs": [],
   "source": [
    "# Đường dẫn file gốc và file đích\n",
    "input_path = '../data/vnexpress_raw_data.csv'\n",
    "output_path = '../raw_data/vnexpress_raw_data.csv'\n",
    "\n",
    "# Kiểm tra nếu file đã tồn tại trong raw_data\n",
    "if not os.path.exists(output_path) and os.path.exists(input_path):\n",
    "    # Copy file sang thư mục raw_data\n",
    "    import shutil\n",
    "    shutil.copy(input_path, output_path)\n",
    "    print(f\"Đã sao chép dữ liệu gốc sang {output_path}\")\n",
    "elif not os.path.exists(input_path):\n",
    "    print(f\"Không tìm thấy file dữ liệu gốc tại {input_path}\")\n",
    "else:\n",
    "    print(f\"Dữ liệu gốc đã tồn tại tại {output_path}\")"
   ]
  },
  {
   "cell_type": "code",
   "execution_count": null,
   "metadata": {},
   "outputs": [
    {
     "name": "stdout",
     "output_type": "stream",
     "text": [
      "Kích thước dữ liệu: (1184, 11)\n",
      "\n",
      "Thông tin cột:\n",
      "<class 'pandas.core.frame.DataFrame'>\n",
      "RangeIndex: 1184 entries, 0 to 1183\n",
      "Data columns (total 11 columns):\n",
      " #   Column            Non-Null Count  Dtype \n",
      "---  ------            --------------  ----- \n",
      " 0   title             1184 non-null   object\n",
      " 1   description       1182 non-null   object\n",
      " 2   date              1182 non-null   object\n",
      " 3   category          1128 non-null   object\n",
      " 4   thumbnail         1143 non-null   object\n",
      " 5   content           1181 non-null   object\n",
      " 6   author            932 non-null    object\n",
      " 7   tags              1184 non-null   object\n",
      " 8   group             1184 non-null   object\n",
      " 9   nums_of_comments  1184 non-null   int64 \n",
      " 10  url               1184 non-null   object\n",
      "dtypes: int64(1), object(10)\n",
      "memory usage: 101.9+ KB\n"
     ]
    }
   ],
   "source": [
    "# Đọc dữ liệu từ raw_data\n",
    "df = pd.read_csv('../raw_data/vnexpress_raw_data.csv', encoding='utf-8')\n",
    "\n",
    "# Hiển thị thông tin cơ bản của tập dữ liệu\n",
    "print(f\"Kích thước dữ liệu: {df.shape}\")\n",
    "print(\"\\nThông tin cột:\")\n",
    "df.info()"
   ]
  },
  {
   "cell_type": "code",
   "execution_count": null,
   "metadata": {},
   "outputs": [
    {
     "data": {
      "text/html": [
       "<div>\n",
       "<style scoped>\n",
       "    .dataframe tbody tr th:only-of-type {\n",
       "        vertical-align: middle;\n",
       "    }\n",
       "\n",
       "    .dataframe tbody tr th {\n",
       "        vertical-align: top;\n",
       "    }\n",
       "\n",
       "    .dataframe thead th {\n",
       "        text-align: right;\n",
       "    }\n",
       "</style>\n",
       "<table border=\"1\" class=\"dataframe\">\n",
       "  <thead>\n",
       "    <tr style=\"text-align: right;\">\n",
       "      <th></th>\n",
       "      <th>title</th>\n",
       "      <th>description</th>\n",
       "      <th>date</th>\n",
       "      <th>category</th>\n",
       "      <th>thumbnail</th>\n",
       "      <th>content</th>\n",
       "      <th>author</th>\n",
       "      <th>tags</th>\n",
       "      <th>group</th>\n",
       "      <th>nums_of_comments</th>\n",
       "      <th>url</th>\n",
       "    </tr>\n",
       "  </thead>\n",
       "  <tbody>\n",
       "    <tr>\n",
       "      <th>0</th>\n",
       "      <td>Elon Musk ra chatbot AI 'thông minh nhất Trái ...</td>\n",
       "      <td>xAI, công ty do Elon Musk sáng lập, công bố Gr...</td>\n",
       "      <td>Thứ ba, 18/2/2025, 12:30 (GMT+7)</td>\n",
       "      <td>AI</td>\n",
       "      <td>https://i1-sohoa.vnecdn.net/2025/02/18/Screens...</td>\n",
       "      <td>Trong livestream ra mắt Grok 3 trên X, diễn ra...</td>\n",
       "      <td>Bảo Lâm</td>\n",
       "      <td>elon musk</td>\n",
       "      <td>Công nghệ</td>\n",
       "      <td>118</td>\n",
       "      <td>https://vnexpress.net/elon-musk-ra-chatbot-ai-...</td>\n",
       "    </tr>\n",
       "    <tr>\n",
       "      <th>1</th>\n",
       "      <td>Winsler 70W Ultra Slim - củ sạc laptop mỏng nh...</td>\n",
       "      <td>Củ sạc Winsler 70W có độ mỏng 12,8 mm, tích hợ...</td>\n",
       "      <td>Thứ năm, 6/3/2025, 16:00 (GMT+7)</td>\n",
       "      <td>Thiết bị</td>\n",
       "      <td>https://i1-sohoa.vnecdn.net/2025/03/06/1-17412...</td>\n",
       "      <td>So với các củ sạc laptop công suất 70W của các...</td>\n",
       "      <td>NaN</td>\n",
       "      <td>winsler, sạc laptop</td>\n",
       "      <td>Công nghệ</td>\n",
       "      <td>0</td>\n",
       "      <td>https://vnexpress.net/winsler-70w-ultra-slim-c...</td>\n",
       "    </tr>\n",
       "  </tbody>\n",
       "</table>\n",
       "</div>"
      ],
      "text/plain": [
       "                                               title  \\\n",
       "0  Elon Musk ra chatbot AI 'thông minh nhất Trái ...   \n",
       "1  Winsler 70W Ultra Slim - củ sạc laptop mỏng nh...   \n",
       "\n",
       "                                         description  \\\n",
       "0  xAI, công ty do Elon Musk sáng lập, công bố Gr...   \n",
       "1  Củ sạc Winsler 70W có độ mỏng 12,8 mm, tích hợ...   \n",
       "\n",
       "                               date  category  \\\n",
       "0  Thứ ba, 18/2/2025, 12:30 (GMT+7)        AI   \n",
       "1  Thứ năm, 6/3/2025, 16:00 (GMT+7)  Thiết bị   \n",
       "\n",
       "                                           thumbnail  \\\n",
       "0  https://i1-sohoa.vnecdn.net/2025/02/18/Screens...   \n",
       "1  https://i1-sohoa.vnecdn.net/2025/03/06/1-17412...   \n",
       "\n",
       "                                             content   author  \\\n",
       "0  Trong livestream ra mắt Grok 3 trên X, diễn ra...  Bảo Lâm   \n",
       "1  So với các củ sạc laptop công suất 70W của các...      NaN   \n",
       "\n",
       "                  tags      group  nums_of_comments  \\\n",
       "0            elon musk  Công nghệ               118   \n",
       "1  winsler, sạc laptop  Công nghệ                 0   \n",
       "\n",
       "                                                 url  \n",
       "0  https://vnexpress.net/elon-musk-ra-chatbot-ai-...  \n",
       "1  https://vnexpress.net/winsler-70w-ultra-slim-c...  "
      ]
     },
     "execution_count": 10,
     "metadata": {},
     "output_type": "execute_result"
    }
   ],
   "source": [
    "# Hiển thị một số dòng đầu tiên\n",
    "df.head(3)"
   ]
  },
  {
   "cell_type": "markdown",
   "metadata": {},
   "source": [
    "## 1.5. Khám phá cấu trúc dữ liệu\n",
    "### 1.5.1. Thống kê dữ liệu thiếu"
   ]
  },
  {
   "cell_type": "code",
   "execution_count": null,
   "metadata": {},
   "outputs": [
    {
     "name": "stdout",
     "output_type": "stream",
     "text": [
      "Thống kê mô tả cho các cột số:\n"
     ]
    },
    {
     "data": {
      "text/html": [
       "<div>\n",
       "<style scoped>\n",
       "    .dataframe tbody tr th:only-of-type {\n",
       "        vertical-align: middle;\n",
       "    }\n",
       "\n",
       "    .dataframe tbody tr th {\n",
       "        vertical-align: top;\n",
       "    }\n",
       "\n",
       "    .dataframe thead th {\n",
       "        text-align: right;\n",
       "    }\n",
       "</style>\n",
       "<table border=\"1\" class=\"dataframe\">\n",
       "  <thead>\n",
       "    <tr style=\"text-align: right;\">\n",
       "      <th></th>\n",
       "      <th>count</th>\n",
       "      <th>mean</th>\n",
       "      <th>std</th>\n",
       "      <th>min</th>\n",
       "      <th>25%</th>\n",
       "      <th>50%</th>\n",
       "      <th>75%</th>\n",
       "      <th>max</th>\n",
       "    </tr>\n",
       "  </thead>\n",
       "  <tbody>\n",
       "    <tr>\n",
       "      <th>nums_of_comments</th>\n",
       "      <td>1184.0</td>\n",
       "      <td>29.304899</td>\n",
       "      <td>47.305494</td>\n",
       "      <td>0.0</td>\n",
       "      <td>3.0</td>\n",
       "      <td>12.0</td>\n",
       "      <td>33.0</td>\n",
       "      <td>389.0</td>\n",
       "    </tr>\n",
       "  </tbody>\n",
       "</table>\n",
       "</div>"
      ],
      "text/plain": [
       "                   count       mean        std  min  25%   50%   75%    max\n",
       "nums_of_comments  1184.0  29.304899  47.305494  0.0  3.0  12.0  33.0  389.0"
      ]
     },
     "execution_count": 22,
     "metadata": {},
     "output_type": "execute_result"
    }
   ],
   "source": [
    "print(\"Số lượng giá trị thiếu trong mỗi cột:\")\n",
    "missing_values = df.isnull().sum()\n",
    "missing_percentage = (df.isnull().sum() / len(df)) * 100\n",
    "missing_df = pd.DataFrame({\n",
    "    'Missing Values': missing_values,\n",
    "    'Percentage (%)': missing_percentage.round(2)\n",
    "})\n",
    "missing_df"
   ]
  },
  {
   "cell_type": "markdown",
   "metadata": {},
   "source": [
    "### 1.5.2. Phân bố dữ liệu theo nhóm chính (Khoa học/Công nghệ)"
   ]
  },
  {
   "cell_type": "code",
   "execution_count": 28,
   "metadata": {},
   "outputs": [
    {
     "data": {
      "image/png": "[encoded data removed]",
      "text/plain": [
       "<Figure size 1000x800 with 1 Axes>"
      ]
     },
     "metadata": {},
     "output_type": "display_data"
    },
    {
     "name": "stdout",
     "output_type": "stream",
     "text": [
      "Tổng số bài viết: 1184\n",
      "- Công nghệ: 604 bài viết (51.0%)\n",
      "- Khoa học: 580 bài viết (49.0%)\n"
     ]
    }
   ],
   "source": [
    "plt.figure(figsize=(10, 8))\n",
    "category_counts = df['group'].value_counts()\n",
    "sns.barplot(y=category_counts.index, x=category_counts.values)\n",
    "plt.title('Số Lượng Bài Viết Theo 2 nhóm', fontsize=16)\n",
    "plt.xlabel('Số Lượng Bài Viết', fontsize=14)\n",
    "plt.ylabel('Nhóm', fontsize=14)\n",
    "plt.grid(True, alpha=0.3)\n",
    "\n",
    "# Add count labels on bars\n",
    "for i, v in enumerate(category_counts.values):\n",
    "    plt.text(v + 5, i, f\"{v} ({v/len(df)*100:.1f}%)\", va='center')\n",
    "\n",
    "plt.show()\n",
    "\n",
    "# Add text summary below the plot\n",
    "print(f\"Tổng số bài viết: {len(df)}\")\n",
    "for group, count in category_counts.items():\n",
    "    print(f\"- {group}: {count} bài viết ({count/len(df)*100:.1f}%)\")"
   ]
  },
  {
   "cell_type": "markdown",
   "metadata": {},
   "source": [
    "## 1.6. Xác định bài toán phù hợp với dữ liệu\n",
    "\n",
    "### Phân loại bài viết thành Khoa học / Công nghệ (group)\n",
    "\n",
    "* **Mục tiêu**: Dự đoán bài viết thuộc nhóm Khoa học hay Công nghệ dựa trên nội dung và các đặc trưng khác.\n",
    "\n",
    "* **Ưu điểm của bài toán**:\n",
    "  - Dữ liệu khá cân bằng giữa hai nhóm (~51% Công nghệ, ~49% Khoa học)\n",
    "  - Có nhiều đặc trưng văn bản phong phú: tiêu đề, nội dung, mô tả, tags\n",
    "  - Các đặc trưng bổ sung như ngày đăng, tác giả có thể cung cấp thông tin hữu ích\n",
    "  - Các mô hình phân loại như SVM, Random Forest, hoặc Deep Learning có tiềm năng áp dụng tốt\n",
    "\n",
    "* **Tiềm năng ứng dụng**:\n",
    "  - Phân loại tự động bài viết mới\n",
    "  - Hỗ trợ hệ thống gợi ý nội dung cho người đọc\n",
    "  - Phục vụ phân tích xu hướng trong các lĩnh vực khoa học và công nghệ\n",
    "\n",
    "* **Kết luận**: Bài toán phân loại Khoa học / Công nghệ có tính khả thi cao, dễ triển khai và có tiềm năng ứng dụng thực tế. Trong các notebook tiếp theo, chúng ta sẽ thực hiện các bước cần thiết để chuẩn bị dữ liệu và đánh giá chi tiết hơn về tính khả thi của bài toán."
   ]
  }
 ],
 "metadata": {
  "kernelspec": {
   "display_name": "venv",
   "language": "python",
   "name": "python3"
  },
  "language_info": {
   "codemirror_mode": {
    "name": "ipython",
    "version": 3
   },
   "file_extension": ".py",
   "mimetype": "text/x-python",
   "name": "python",
   "nbconvert_exporter": "python",
   "pygments_lexer": "ipython3",
   "version": "3.12.8"
  }
 },
 "nbformat": 4,
 "nbformat_minor": 2
}
