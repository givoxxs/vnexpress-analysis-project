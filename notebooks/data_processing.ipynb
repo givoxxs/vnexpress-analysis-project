{
  "cells": [
    {
      "cell_type": "markdown",
      "metadata": {},
      "source": [
        "# Phân Tích và Dự Đoán Số Bình Luận Trên Bài Viết VnExpress\n",
        "\n",
        "Trong notebook này, chúng ta sẽ phân tích và xử lý dữ liệu từ báo điện tử VnExpress với mục tiêu dự đoán số lượng bình luận trên một bài viết dựa trên các đặc điểm khác nhau. Chúng ta sẽ thực hiện các bước sau:\n",
        "- Đặt vấn đề\n",
        "- Thu thập dữ liệu\n",
        "- Mô tả và trực quan hóa dữ liệu\n",
        "- Mã hóa và xử lý dữ liệu\n",
        "- Kỹ thuật đặc trưng\n",
        "- Trực quan hóa mối quan hệ đa biến\n",
        "- Kết luận\n",
        "- Tài liệu tham khảo"
      ]
    },
    {
      "cell_type": "markdown",
      "metadata": {},
      "source": [
        "## 1. Đặt Vấn Đề\n",
        "\n",
        "Số lượng bình luận trên một bài viết có thể phản ánh mức độ quan tâm của độc giả đối với nội dung bài viết đó. Việc dự đoán số lượng bình luận có thể giúp các nhà báo và biên tập viên hiểu rõ hơn về những chủ đề nào đang thu hút sự chú ý của độc giả. Trong phần này, chúng ta sẽ xác định các yếu tố có thể ảnh hưởng đến số lượng bình luận, chẳng hạn như tiêu đề, mô tả, nội dung, và thể loại bài viết."
      ]
    },
    {
      "cell_type": "markdown",
      "metadata": {},
      "source": [
        "## 2. Thu Thập Dữ Liệu\n",
        "\n",
        "Chúng ta sẽ sử dụng dữ liệu từ các file CSV đã được cung cấp, bao gồm thông tin về tiêu đề, mô tả, ngày đăng, thể loại, nội dung, tác giả, thẻ, nhóm, số lượng bình luận và URL của bài viết."
      ]
    },
    {
      "cell_type": "code",
      "metadata": {},
      "source": [
        "import pandas as pd\n",
        "\n",
        "# Đọc dữ liệu từ file CSV\n",
        "data_congnghe = pd.read_csv('raw_data_congnghe.csv')\n",
        "data_khoahoc = pd.read_csv('vnexpress_khoahoc_raw_data.csv')\n",
        "\n",
        "# Kết hợp dữ liệu\n",
        "data = pd.concat([data_congnghe, data_khoahoc], ignore_index=True)\n",
        "data.head()"
      ]
    },
    {
      "cell_type": "markdown",
      "metadata": {},
      "source": [
        "## 3. Mô Tả và Trực Quan Hóa Dữ Liệu\n",
        "\n",
        "Trong phần này, chúng ta sẽ kiểm tra các thông tin cơ bản về dữ liệu, bao gồm số lượng bản ghi, các cột, và kiểm tra các giá trị thiếu. Sau đó, chúng ta sẽ trực quan hóa một số đặc điểm của dữ liệu để hiểu rõ hơn về nó."
      ]
    },
    {
      "cell_type": "code",
      "metadata": {},
      "source": [
        "# Kiểm tra thông tin dữ liệu\n",
        "data.info()\n",
        "\n",
        "# Kiểm tra giá trị thiếu\n",
        "missing_values = data.isnull().sum()\n",
        "missing_values[missing_values > 0]"
      ]
    },
    {
      "cell_type": "markdown",
      "metadata": {},
      "source": [
        "### Trực Quan Hóa Số Bình Luận\n",
        "\n",
        "Chúng ta sẽ tạo biểu đồ để trực quan hóa phân phối số bình luận trên các bài viết."
      ]
    },
    {
      "cell_type": "code",
      "metadata": {},
      "source": [
        "import matplotlib.pyplot as plt\n",
        "import seaborn as sns\n",
        "\n",
        "# Thiết lập kiểu dáng cho biểu đồ\n",
        "sns.set(style='whitegrid')\n",
        "\n",
        "# Biểu đồ phân phối số bình luận\n",
        "plt.figure(figsize=(10, 6))\n",
        "sns.histplot(data['nums_of_comments'], bins=30, kde=True)\n",
        "plt.title('Phân Phối Số Bình Luận Trên Bài Viết')\n",
        "plt.xlabel('Số Bình Luận')\n",
        "plt.ylabel('Tần Suất')\n",
        "plt.show()"
      ]
    },
    {
      "cell_type": "markdown",
      "metadata": {},
      "source": [
        "## 4. Mã Hóa và Xử Lý Dữ Liệu\n",
        "\n",
        "Trước khi tiến hành phân tích, chúng ta cần mã hóa các biến phân loại và xử lý các giá trị thiếu. Chúng ta sẽ sử dụng One-Hot Encoding cho các biến phân loại và điền giá trị thiếu bằng phương pháp thích hợp."
      ]
    },
    {
      "cell_type": "code",
      "metadata": {},
      "source": [
        "# Mã hóa các biến phân loại\n",
        "data_encoded = pd.get_dummies(data, columns=['category', 'author'], drop_first=True)\n",
        "\n",
        "# Điền giá trị thiếu\n",
        "data_encoded.fillna({'description': '', 'content': ''}, inplace=True)\n",
        "data_encoded.isnull().sum()"
      ]
    },
    {
      "cell_type": "markdown",
      "metadata": {},
      "source": [
        "## 5. Kỹ Thuật Đặc Trưng\n",
        "\n",
        "Chúng ta sẽ tạo ra các đặc trưng mới từ dữ liệu hiện có, chẳng hạn như độ dài của tiêu đề, mô tả và nội dung, để cải thiện khả năng dự đoán."
      ]
    },
    {
      "cell_type": "code",
      "metadata": {},
      "source": [
        "# Tạo các đặc trưng mới\n",
        "data_encoded['length_title'] = data_encoded['title'].apply(len)\n",
        "data_encoded['length_description'] = data_encoded['description'].apply(len)\n",
        "data_encoded['length_content'] = data_encoded['content'].apply(len)\n",
        "data_encoded.head()"
      ]
    },
    {
      "cell_type": "markdown",
      "metadata": {},
      "source": [
        "## 6. Trực Quan Hóa Mối Quan Hệ Đa Biến\n",
        "\n",
        "Chúng ta sẽ trực quan hóa mối quan hệ giữa số bình luận và các đặc trưng khác để tìm hiểu xem có mối liên hệ nào không."
      ]
    },
    {
      "cell_type": "code",
      "metadata": {},
      "source": [
        "# Trực quan hóa mối quan hệ giữa số bình luận và độ dài tiêu đề\n",
        "plt.figure(figsize=(10, 6))\n",
        "sns.scatterplot(x='length_title', y='nums_of_comments', data=data_encoded)\n",
        "plt.title('Mối Quan Hệ Giữa Độ Dài Tiêu Đề và Số Bình Luận')\n",
        "plt.xlabel('Độ Dài Tiêu Đề')\n",
        "plt.ylabel('Số Bình Luận')\n",
        "plt.show()"
      ]
    },
    {
      "cell_type": "markdown",
      "metadata": {},
      "source": [
        "## 7. Kết Luận\n",
        "\n",
        "Trong notebook này, chúng ta đã thực hiện phân tích và xử lý dữ liệu từ VnExpress để dự đoán số lượng bình luận trên các bài viết. Chúng ta đã khám phá dữ liệu, xử lý các giá trị thiếu, mã hóa các biến phân loại, và tạo ra các đặc trưng mới. Các bước tiếp theo có thể bao gồm xây dựng mô hình dự đoán và đánh giá hiệu suất của nó."
      ]
    },
    {
      "cell_type": "markdown",
      "metadata": {},
      "source": [
        "## 8. Tài Liệu Tham Khảo\n",
        "\n",
        "- VnExpress.net\n",
        "- Pandas Documentation\n",
        "- Matplotlib Documentation\n",
        "- Seaborn Documentation"
      ]
    }
  ],
  "metadata": {
    "kernelspec": {
      "display_name": "Python 3",
      "language": "python",
      "name": "python3"
    },
    "language_info": {
      "codemirror_mode": {
        "name": "ipython",
        "version": 3
      },
      "file_extension": ".py",
      "mimetype": "text/x-python",
      "name": "python",
      "nbconvert_exporter": "python",
      "pygments_lexer": "ipython3",
      "version": "3.8.5"
    }
  },
  "nbformat": 4,
  "nbformat_minor": 4
}